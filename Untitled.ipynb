{
 "cells": [
  {
   "cell_type": "code",
   "execution_count": 1,
   "id": "ad67e8df-a1a5-4752-8ae6-3ea481a0d684",
   "metadata": {},
   "outputs": [],
   "source": [
    "from bs4 import BeautifulSoup\n",
    "import requests\n",
    "import time\n",
    "import datetime\n",
    "\n",
    "import smtplib"
   ]
  },
  {
   "cell_type": "markdown",
   "id": "2651e702-cdd7-4e43-9837-79c0b82c79de",
   "metadata": {},
   "source": [
    "Connect to website"
   ]
  },
  {
   "cell_type": "code",
   "execution_count": 2,
   "id": "24acf397-5774-4ec1-8fe7-6be4c56070b1",
   "metadata": {},
   "outputs": [
    {
     "name": "stdout",
     "output_type": "stream",
     "text": [
      "\n",
      "                     Beebay Cotton Floral Embroide Dress - Red (232144)\n",
      "                    \n",
      "\n",
      "                       899\n",
      "                      \n"
     ]
    }
   ],
   "source": [
    "\n",
    "\n",
    "url= 'https://www.amazon.in/Beebay-Cotton-Floral-Embroidered-Dress/dp/B0CHF3HYWX/ref=sr_1_1_sspa?keywords=dress&qid=1706206030&sr=8-1-spons&sp_csd=d2lkZ2V0TmFtZT1zcF9hdGY&psc=1'\n",
    "headers= {\"User-Agent\": \"Mozilla/5.0 (Windows NT 10.0; Win64; x64) AppleWebKit/537.36 (KHTML, like Gecko) Chrome/120.0.0.0 Safari/537.36\"}\n",
    "\n",
    "page = requests.get(url,headers=headers)\n",
    "\n",
    "soup1= BeautifulSoup(page.content, \"html.parser\")\n",
    "\n",
    "soup2= BeautifulSoup(soup1.prettify(),\"html.parser\")\n",
    "\n",
    "title = soup2.find(id='productTitle').get_text() \n",
    "price = soup2.find(class_='a-price-whole').get_text()\n",
    "\n",
    "\n",
    "print(title)\n",
    "print(price)\n"
   ]
  },
  {
   "cell_type": "code",
   "execution_count": 3,
   "id": "b83b393b-40bc-4a67-8b31-8313ea035e88",
   "metadata": {},
   "outputs": [
    {
     "name": "stdout",
     "output_type": "stream",
     "text": [
      "899\n",
      "Beebay Cotton Floral Embroide Dress - Red (232144)\n"
     ]
    }
   ],
   "source": [
    "price= price.strip()\n",
    "title= title.strip()\n",
    "print(price)\n",
    "print(title)"
   ]
  },
  {
   "cell_type": "code",
   "execution_count": 4,
   "id": "1380abe5-9257-46a5-9094-daa638f6bfa7",
   "metadata": {},
   "outputs": [
    {
     "name": "stdout",
     "output_type": "stream",
     "text": [
      "2024-01-30\n"
     ]
    }
   ],
   "source": [
    "import datetime\n",
    "today=datetime.date.today()\n",
    "print(today)"
   ]
  },
  {
   "cell_type": "markdown",
   "id": "680850b4-aec5-4b15-afd9-d050d0732f40",
   "metadata": {},
   "source": [
    "Creating CSV"
   ]
  },
  {
   "cell_type": "code",
   "execution_count": 10,
   "id": "4d71e5f0-5e6c-4198-b9a6-5d90ce6ddd64",
   "metadata": {},
   "outputs": [
    {
     "data": {
      "text/plain": [
       "list"
      ]
     },
     "execution_count": 10,
     "metadata": {},
     "output_type": "execute_result"
    }
   ],
   "source": [
    "import csv\n",
    "\n",
    "\n",
    "header= [\"Title\", \"Price\",\"Date\"]\n",
    "data= [title, price, today]\n",
    "\n",
    "with open('Amazonwebscraper.csv', 'w', newline='', encoding='UTF8') as f:\n",
    "    writer= csv.writer(f)\n",
    "    writer.writerow(header)\n",
    "    writer.writerow(data)\n",
    "\n",
    "type(data)"
   ]
  },
  {
   "cell_type": "code",
   "execution_count": 6,
   "id": "4f45f33a-c78e-47f1-b60e-ea112515ce2d",
   "metadata": {},
   "outputs": [
    {
     "name": "stdout",
     "output_type": "stream",
     "text": [
      "                                                Title  Price        Date\n",
      "0   Beebay Cotton Floral Embroide Dress - Red (232...    899  2024-01-26\n",
      "1   Beebay Cotton Floral Embroide Dress - Red (232...    899  2024-01-26\n",
      "2   Beebay Cotton Floral Embroide Dress - Red (232...    899  2024-01-26\n",
      "3   Beebay Cotton Floral Embroide Dress - Red (232...    899  2024-01-26\n",
      "4   Beebay Cotton Floral Embroide Dress - Red (232...    899  2024-01-26\n",
      "5   Beebay Cotton Floral Embroide Dress - Red (232...    899  2024-01-26\n",
      "6   Beebay Cotton Floral Embroide Dress - Red (232...    899  2024-01-26\n",
      "7   Beebay Cotton Floral Embroide Dress - Red (232...    899  2024-01-26\n",
      "8   Beebay Cotton Floral Embroide Dress - Red (232...    899  2024-01-26\n",
      "9   Beebay Cotton Floral Embroide Dress - Red (232...    899  2024-01-26\n",
      "10  Beebay Cotton Floral Embroide Dress - Red (232...    899  2024-01-26\n",
      "11  Beebay Cotton Floral Embroide Dress - Red (232...    899  2024-01-26\n",
      "12  Beebay Cotton Floral Embroide Dress - Red (232...    899  2024-01-26\n",
      "13  Beebay Cotton Floral Embroide Dress - Red (232...    899  2024-01-26\n"
     ]
    }
   ],
   "source": [
    "import pandas as pd\n",
    "\n",
    "df= pd.read_csv(\"E:\\web scraping linkedin\\Amazonwebscraper.csv\")\n",
    "print(df)"
   ]
  },
  {
   "cell_type": "markdown",
   "id": "42ddf6c5-a395-49fb-aebc-82e3ce4896a1",
   "metadata": {},
   "source": [
    "Append CSV"
   ]
  },
  {
   "cell_type": "code",
   "execution_count": 7,
   "id": "3052474d-71bf-4d75-9d18-47e3546f0521",
   "metadata": {},
   "outputs": [],
   "source": [
    "with open('Amazonwebscraper.csv', 'a+', newline='', encoding='UTF8') as f:\n",
    "    writer= csv.writer(f)\n",
    "    writer.writerow(data)\n",
    "    "
   ]
  },
  {
   "cell_type": "code",
   "execution_count": 8,
   "id": "4be91fa7-d396-403b-a80c-6581d7e9ed5c",
   "metadata": {},
   "outputs": [],
   "source": [
    "def check_price():\n",
    "    url= 'https://www.amazon.in/Beebay-Cotton-Floral-Embroidered-Dress/dp/B0CHF3HYWX/ref=sr_1_1_sspa?keywords=dress&qid=1706206030&sr=8-1-spons&sp_csd=d2lkZ2V0TmFtZT1zcF9hdGY&psc=1'\n",
    "    headers= {\"User-Agent\": \"Mozilla/5.0 (Windows NT 10.0; Win64; x64) AppleWebKit/537.36 (KHTML, like Gecko) Chrome/120.0.0.0 Safari/537.36\"}\n",
    "\n",
    "    page = requests.get(url,headers=headers)\n",
    "\n",
    "    soup1= BeautifulSoup(page.content, \"html.parser\")\n",
    "\n",
    "    soup2= BeautifulSoup(soup1.prettify(),\"html.parser\")\n",
    "\n",
    "    title = soup2.find(id='productTitle').get_text() \n",
    "    price = soup2.find(class_='a-price-whole').get_text()\n",
    "\n",
    "    price= price.strip()\n",
    "    title= title.strip()\n",
    "\n",
    "    import datetime\n",
    "    today=datetime.date.today()\n",
    "\n",
    "    import csv\n",
    "\n",
    "\n",
    "    header= [\"Title\", \"Price\",\"Date\"]\n",
    "    data= [title, price, today]\n",
    "\n",
    "    with open('Amazonwebscraper.csv', 'a+', newline='', encoding='UTF8') as f:\n",
    "        writer= csv.writer(f)\n",
    "        writer.writerow(data)\n",
    "\n",
    "    if(price<700):    \n",
    "        send_mail()  #function to send mail\n",
    "\n",
    "\n",
    "\n",
    "\n",
    "\n",
    "\n"
   ]
  },
  {
   "cell_type": "code",
   "execution_count": 9,
   "id": "16368118-cb6c-4947-9eb0-c11206c08cd9",
   "metadata": {},
   "outputs": [
    {
     "ename": "TypeError",
     "evalue": "'<' not supported between instances of 'str' and 'int'",
     "output_type": "error",
     "traceback": [
      "\u001b[1;31m---------------------------------------------------------------------------\u001b[0m",
      "\u001b[1;31mTypeError\u001b[0m                                 Traceback (most recent call last)",
      "Cell \u001b[1;32mIn[9], line 2\u001b[0m\n\u001b[0;32m      1\u001b[0m \u001b[38;5;28;01mwhile\u001b[39;00m(\u001b[38;5;28;01mTrue\u001b[39;00m):\n\u001b[1;32m----> 2\u001b[0m     \u001b[43mcheck_price\u001b[49m\u001b[43m(\u001b[49m\u001b[43m)\u001b[49m\n\u001b[0;32m      3\u001b[0m     time\u001b[38;5;241m.\u001b[39msleep(\u001b[38;5;241m86400\u001b[39m)  \u001b[38;5;66;03m#time is entered in seconds\u001b[39;00m\n\u001b[0;32m      4\u001b[0m     \u001b[38;5;66;03m#i day=86400 seconds, therefore 86400 seconds. In this way \u001b[39;00m\n\u001b[0;32m      5\u001b[0m     \u001b[38;5;66;03m#it will check and update data every day automatically\u001b[39;00m\n",
      "Cell \u001b[1;32mIn[8], line 30\u001b[0m, in \u001b[0;36mcheck_price\u001b[1;34m()\u001b[0m\n\u001b[0;32m     27\u001b[0m     writer\u001b[38;5;241m=\u001b[39m csv\u001b[38;5;241m.\u001b[39mwriter(f)\n\u001b[0;32m     28\u001b[0m     writer\u001b[38;5;241m.\u001b[39mwriterow(data)\n\u001b[1;32m---> 30\u001b[0m \u001b[38;5;28;01mif\u001b[39;00m(\u001b[43mprice\u001b[49m\u001b[38;5;241;43m<\u001b[39;49m\u001b[38;5;241;43m700\u001b[39;49m):    \n\u001b[0;32m     31\u001b[0m     send_mail()\n",
      "\u001b[1;31mTypeError\u001b[0m: '<' not supported between instances of 'str' and 'int'"
     ]
    }
   ],
   "source": [
    "while(True):\n",
    "    check_price()\n",
    "    time.sleep(86400)  #time is entered in seconds\n",
    "    #i day=86400 seconds, therefore 86400 seconds. In this way \n",
    "    #it will check and update data every day automatically\n",
    "    "
   ]
  },
  {
   "cell_type": "code",
   "execution_count": null,
   "id": "9ffda605-62a2-42a5-868d-c765b6b4ef92",
   "metadata": {},
   "outputs": [],
   "source": [
    "import pandas as pd\n",
    "\n",
    "df= pd.read_csv(\"E:\\web scraping linkedin\\Amazonwebscraper.csv\")\n",
    "print(df)"
   ]
  },
  {
   "cell_type": "code",
   "execution_count": null,
   "id": "f884c715-c645-40c2-af46-bdad12cc2d53",
   "metadata": {},
   "outputs": [],
   "source": [
    "# If uou want to try sending yourself an email (just for fun) when a price hits below a certain level you can try it\n",
    "# out with this script\n",
    "\n",
    "def send_mail():\n",
    "    server = smtplib.SMTP_SSL('smtp.gmail.com',465)\n",
    "    server.ehlo()\n",
    "    #server.starttls()\n",
    "    server.ehlo()\n",
    "    server.login('anshika19062002@gmail.com','Anshika@1919')\n",
    "    \n",
    "    subject = \"The dress you want is below Rs 700! Now is your chance to buy!\"\n",
    "    body = \"Anshika, This is the moment we have been waiting for. Now is your chance to pick up the dress of your dreams. Don't mess it up! Link here: https://www.amazon.in/Beebay-Cotton-Floral-Embroidered-Dress/dp/B0CHF3HYWX/ref=sr_1_1_sspa?keywords=dress&qid=1706206030&sr=8-1-spons&sp_csd=d2lkZ2V0TmFtZT1zcF9hdGY&psc=1\"\n",
    "   \n",
    "    msg = f\"Subject: {subject}\\n\\n{body}\"\n",
    "    \n",
    "    server.sendmail(\n",
    "        'anshika19062002@gmail.com',\n",
    "        msg"
   ]
  }
 ],
 "metadata": {
  "kernelspec": {
   "display_name": "Python 3 (ipykernel)",
   "language": "python",
   "name": "python3"
  },
  "language_info": {
   "codemirror_mode": {
    "name": "ipython",
    "version": 3
   },
   "file_extension": ".py",
   "mimetype": "text/x-python",
   "name": "python",
   "nbconvert_exporter": "python",
   "pygments_lexer": "ipython3",
   "version": "3.11.4"
  },
  "widgets": {
   "application/vnd.jupyter.widget-state+json": {
    "state": {},
    "version_major": 2,
    "version_minor": 0
   }
  }
 },
 "nbformat": 4,
 "nbformat_minor": 5
}
